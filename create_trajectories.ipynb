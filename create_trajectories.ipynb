{
 "cells": [
  {
   "cell_type": "code",
   "execution_count": null,
   "id": "dd5468ba-179d-4b95-a515-62768d3b2d9b",
   "metadata": {},
   "outputs": [],
   "source": [
    "import numpy as np\n",
    "from isaacgym import gymapi, gymtorch\n",
    "from isaacgym.torch_utils import *\n",
    "from tqdm import tqdm"
   ]
  },
  {
   "cell_type": "code",
   "execution_count": null,
   "id": "6b4cb997-804f-4d8c-b198-974a6c3d4704",
   "metadata": {},
   "outputs": [],
   "source": [
    "from franka_panda_env import FrankaPandaEnv\n",
    "from misc import wrap_angle\n",
    "from motion_primitive_controller import MotionPrimitiveController\n",
    "from position_controller import PositionController"
   ]
  },
  {
   "cell_type": "code",
   "execution_count": null,
   "id": "d7208d47-190c-4d9e-a3a9-a876f92d6788",
   "metadata": {},
   "outputs": [],
   "source": [
    "env = FrankaPandaEnv(use_gpu=True, use_gpu_pipeline=False, headless=False)\n",
    "\n",
    "motion_primitive_controller = MotionPrimitiveController(env.states[\"eef_pos\"])\n",
    "motion_primitive_controller.update(\n",
    "    current_positions=env.states[\"eef_pos\"],\n",
    "    current_velocities=env.states[\"eef_vel\"],\n",
    "    cube_pos_relative=env.states[\"cube_pos_relative\"],\n",
    "    force=True,\n",
    ")\n",
    "\n",
    "position_controller = PositionController(env)"
   ]
  },
  {
   "cell_type": "code",
   "execution_count": null,
   "id": "6bdf12ca-a87c-4090-aa87-8396ba89f89a",
   "metadata": {
    "scrolled": true
   },
   "outputs": [],
   "source": [
    "frame_num = 0\n",
    "for _ in tqdm(range(20)):\n",
    "    # Reset all environments\n",
    "    env.reset_pose(\"default\")\n",
    "    env.reset_cube()\n",
    "    motion_primitive_controller.dones *= False\n",
    "    motion_primitive_controller.update(\n",
    "        current_positions=env.states[\"eef_pos\"],\n",
    "        current_velocities=env.states[\"eef_vel\"],\n",
    "        cube_pos_relative=env.states[\"cube_pos_relative\"],\n",
    "        force=True,\n",
    "        epsilon=0.5,\n",
    "    )\n",
    "    for _ in range(500):\n",
    "        indices_done = motion_primitive_controller.update(\n",
    "            current_positions=env.states[\"eef_pos\"],\n",
    "            current_velocities=env.states[\"eef_vel\"],\n",
    "            cube_pos_relative=env.states[\"cube_pos_relative\"],\n",
    "            epsilon=0.5,\n",
    "        )\n",
    "        position_controller.set_target(\n",
    "            motion_primitive_controller.current_targets[:, :2]\n",
    "        )\n",
    "        position_controller.step()\n",
    "        env.gym.write_viewer_image_to_file(env.viewer, f\"./images/{frame_num}.png\")\n",
    "        env.reset_pose(\"default\", indices_done)\n",
    "        env.reset_cube(indices_done)\n",
    "        motion_primitive_controller.dones *= False\n",
    "        frame_num += 1"
   ]
  }
 ],
 "metadata": {
  "kernelspec": {
   "display_name": "Python [conda env:rlgpu]",
   "language": "python",
   "name": "conda-env-rlgpu-py"
  },
  "language_info": {
   "codemirror_mode": {
    "name": "ipython",
    "version": 3
   },
   "file_extension": ".py",
   "mimetype": "text/x-python",
   "name": "python",
   "nbconvert_exporter": "python",
   "pygments_lexer": "ipython3",
   "version": "3.8.18"
  }
 },
 "nbformat": 4,
 "nbformat_minor": 5
}
