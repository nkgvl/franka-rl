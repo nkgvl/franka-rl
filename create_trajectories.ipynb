{
 "cells": [
  {
   "cell_type": "code",
   "execution_count": 1,
   "id": "dd5468ba-179d-4b95-a515-62768d3b2d9b",
   "metadata": {},
   "outputs": [
    {
     "name": "stdout",
     "output_type": "stream",
     "text": [
      "Importing module 'gym_38' (/data2/users/nk523/isaacgym/python/isaacgym/_bindings/linux-x86_64/gym_38.so)\n",
      "Setting GYM_USD_PLUG_INFO_PATH to /data2/users/nk523/isaacgym/python/isaacgym/_bindings/linux-x86_64/usd/plugInfo.json\n",
      "PyTorch version 2.1.1\n",
      "Device count 4\n",
      "/data2/users/nk523/isaacgym/python/isaacgym/_bindings/src/gymtorch\n"
     ]
    },
    {
     "name": "stderr",
     "output_type": "stream",
     "text": [
      "Using /data2/users/nk523/.cache/torch_extensions/py38_cu121 as PyTorch extensions root...\n",
      "Emitting ninja build file /data2/users/nk523/.cache/torch_extensions/py38_cu121/gymtorch/build.ninja...\n",
      "Building extension module gymtorch...\n",
      "Allowing ninja to set a default number of workers... (overridable by setting the environment variable MAX_JOBS=N)\n",
      "Loading extension module gymtorch...\n"
     ]
    },
    {
     "name": "stdout",
     "output_type": "stream",
     "text": [
      "ninja: no work to do.\n"
     ]
    }
   ],
   "source": [
    "import numpy as np\n",
    "from isaacgym import gymapi, gymtorch\n",
    "from isaacgym.torch_utils import *\n",
    "from tqdm import tqdm"
   ]
  },
  {
   "cell_type": "code",
   "execution_count": 2,
   "id": "6b4cb997-804f-4d8c-b198-974a6c3d4704",
   "metadata": {},
   "outputs": [],
   "source": [
    "from franka_panda_env import FrankaPandaEnv\n",
    "from misc import wrap_angle\n",
    "from motion_primitive_controller import MotionPrimitiveController\n",
    "from position_controller import PositionController"
   ]
  },
  {
   "cell_type": "code",
   "execution_count": 3,
   "id": "ff1e57d5-835a-49ac-9efe-09e26d43d780",
   "metadata": {},
   "outputs": [
    {
     "name": "stdout",
     "output_type": "stream",
     "text": [
      "Not connected to PVD\n",
      "+++ Using GPU PhysX\n",
      "Physics Engine: PhysX\n",
      "Physics Device: cuda:0\n",
      "GPU Pipeline: disabled\n",
      "Loading asset 'urdf/franka_description/robots/franka_panda_gripper.urdf' from 'assets'\n",
      "Creating 36 environments\n"
     ]
    }
   ],
   "source": [
    "env = FrankaPandaEnv(use_gpu=True, use_gpu_pipeline=False, headless=False)"
   ]
  },
  {
   "cell_type": "code",
   "execution_count": 4,
   "id": "5f760cbf-4efe-437d-9d19-99439df92f5c",
   "metadata": {},
   "outputs": [
    {
     "data": {
      "text/plain": [
       "[]"
      ]
     },
     "execution_count": 4,
     "metadata": {},
     "output_type": "execute_result"
    }
   ],
   "source": [
    "motion_primitive_controller = MotionPrimitiveController(env.states[\"eef_pos\"])\n",
    "motion_primitive_controller.update(\n",
    "    current_positions=env.states[\"eef_pos\"],\n",
    "    current_velocities=env.states[\"eef_vel\"],\n",
    "    cube_pos_relative=env.states[\"cube_pos_relative\"],\n",
    "    force=True,\n",
    ")"
   ]
  },
  {
   "cell_type": "code",
   "execution_count": 5,
   "id": "20239c14-ef62-444c-85f5-53ef75aaed36",
   "metadata": {},
   "outputs": [],
   "source": [
    "position_controller = PositionController(env)"
   ]
  },
  {
   "cell_type": "code",
   "execution_count": null,
   "id": "6bdf12ca-a87c-4090-aa87-8396ba89f89a",
   "metadata": {
    "scrolled": true
   },
   "outputs": [
    {
     "name": "stderr",
     "output_type": "stream",
     "text": [
      "  0%|                                                                                  | 0/20 [00:00<?, ?it/s]"
     ]
    }
   ],
   "source": [
    "for _ in tqdm(range(20)):\n",
    "    # Reset all environments\n",
    "    env.reset_pose(\"default\")\n",
    "    env.reset_cube()\n",
    "    motion_primitive_controller.dones *= False\n",
    "    motion_primitive_controller.update(\n",
    "        current_positions=env.states[\"eef_pos\"],\n",
    "        current_velocities=env.states[\"eef_vel\"],\n",
    "        cube_pos_relative=env.states[\"cube_pos_relative\"],\n",
    "        force=True,\n",
    "        epsilon=0.5,\n",
    "    )\n",
    "    for _ in range(500):\n",
    "        indices_done = motion_primitive_controller.update(\n",
    "            current_positions=env.states[\"eef_pos\"],\n",
    "            current_velocities=env.states[\"eef_vel\"],\n",
    "            cube_pos_relative=env.states[\"cube_pos_relative\"],\n",
    "            epsilon=0.5,\n",
    "        )\n",
    "        position_controller.set_target(motion_primitive_controller.current_targets[:, :2])\n",
    "        position_controller.step()\n",
    "        env.reset_pose(\"default\", indices_done)\n",
    "        env.reset_cube(indices_done)\n",
    "        motion_primitive_controller.dones *= False"
   ]
  },
  {
   "cell_type": "code",
   "execution_count": null,
   "id": "5ff45a95-acb6-4610-ad87-fce3617e9f87",
   "metadata": {},
   "outputs": [],
   "source": [
    "env."
   ]
  },
  {
   "cell_type": "code",
   "execution_count": null,
   "id": "a4a51b5d-5cb2-4d8b-8f6f-ec21275ba145",
   "metadata": {},
   "outputs": [],
   "source": [
    "trajs = [item for sublist in motion_primitive_controller.trajectories for item in sublist]"
   ]
  },
  {
   "cell_type": "code",
   "execution_count": null,
   "id": "737c30e5-82b2-40f1-a49f-a7d07bc967ef",
   "metadata": {},
   "outputs": [],
   "source": [
    "import matplotlib.pyplot as plt\n",
    "from matplotlib.patches import Circle\n",
    "import numpy as np"
   ]
  },
  {
   "cell_type": "code",
   "execution_count": null,
   "id": "0b2622ca-0386-4196-a713-75521072a4a8",
   "metadata": {},
   "outputs": [],
   "source": [
    "data = torch.stack([transition[0] for transition in trajs]).cpu().detach().numpy()\n",
    "x = data[:, 0]\n",
    "y = data[:, 1]\n",
    "z = data[:, 2]"
   ]
  },
  {
   "cell_type": "code",
   "execution_count": null,
   "id": "adbe5795-4008-445f-a413-9250c58f4399",
   "metadata": {},
   "outputs": [],
   "source": [
    "# Adjusting the color mapping based on the new requirements\n",
    "\n",
    "# Center value for color mapping\n",
    "z_center = 0.025\n",
    "\n",
    "# Normalize Z values around the center (0.025) \n",
    "# Using the maximum absolute deviation from the center to ensure symmetry in the color scale\n",
    "max_deviation = max(np.abs(z - z_center))\n",
    "z_normalized_centered = (z - z_center) / max_deviation\n",
    "z_normalized_centered = np.clip(z_normalized_centered, -1, 1)  # Ensuring values are within [-1, 1]\n",
    "\n",
    "# Create a colormap that transitions from blue (negative) to gray (zero) to red (positive)\n",
    "cmap_centered = plt.cm.get_cmap('coolwarm')\n",
    "\n",
    "# Create the scatter plot with the new color mapping\n",
    "plt.figure(figsize=(6, 6))\n",
    "sc = plt.scatter(x, y, c=z_normalized_centered, cmap=cmap_centered, vmin=-1, vmax=1)\n",
    "\n",
    "# Setting aspect ratio to 1:1\n",
    "plt.gca().set_aspect('equal', adjustable='box')\n",
    "\n",
    "# Adding a color bar\n",
    "plt.colorbar(sc, label='Z value (Centered and Normalized)')\n",
    "\n",
    "# Setting labels\n",
    "plt.xlabel('X coordinate')\n",
    "plt.ylabel('Y coordinate')\n",
    "plt.title('Colored XY Plot Centered at Z=0.025')\n",
    "\n",
    "circle = Circle((-0.5, 0), 0.75, color='black', fill=False)\n",
    "plt.gca().add_patch(circle)\n",
    "\n",
    "plt.grid()\n",
    "\n",
    "# Show plot\n",
    "plt.show()\n"
   ]
  },
  {
   "cell_type": "code",
   "execution_count": null,
   "id": "f38c7d58-4a4c-418a-b0f8-4e36aad02886",
   "metadata": {},
   "outputs": [],
   "source": []
  }
 ],
 "metadata": {
  "kernelspec": {
   "display_name": "Python [conda env:rlgpu]",
   "language": "python",
   "name": "conda-env-rlgpu-py"
  },
  "language_info": {
   "codemirror_mode": {
    "name": "ipython",
    "version": 3
   },
   "file_extension": ".py",
   "mimetype": "text/x-python",
   "name": "python",
   "nbconvert_exporter": "python",
   "pygments_lexer": "ipython3",
   "version": "3.8.18"
  }
 },
 "nbformat": 4,
 "nbformat_minor": 5
}
