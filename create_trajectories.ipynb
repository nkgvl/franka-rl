{
 "cells": [
  {
   "cell_type": "code",
   "execution_count": 1,
   "id": "dd5468ba-179d-4b95-a515-62768d3b2d9b",
   "metadata": {},
   "outputs": [
    {
     "name": "stdout",
     "output_type": "stream",
     "text": [
      "Importing module 'gym_38' (/data2/users/nk523/isaacgym/python/isaacgym/_bindings/linux-x86_64/gym_38.so)\n",
      "Setting GYM_USD_PLUG_INFO_PATH to /data2/users/nk523/isaacgym/python/isaacgym/_bindings/linux-x86_64/usd/plugInfo.json\n",
      "PyTorch version 2.1.1\n",
      "Device count 4\n",
      "/data2/users/nk523/isaacgym/python/isaacgym/_bindings/src/gymtorch\n"
     ]
    },
    {
     "name": "stderr",
     "output_type": "stream",
     "text": [
      "Using /data2/users/nk523/.cache/torch_extensions/py38_cu121 as PyTorch extensions root...\n",
      "Emitting ninja build file /data2/users/nk523/.cache/torch_extensions/py38_cu121/gymtorch/build.ninja...\n",
      "Building extension module gymtorch...\n",
      "Allowing ninja to set a default number of workers... (overridable by setting the environment variable MAX_JOBS=N)\n",
      "Loading extension module gymtorch...\n"
     ]
    },
    {
     "name": "stdout",
     "output_type": "stream",
     "text": [
      "ninja: no work to do.\n"
     ]
    }
   ],
   "source": [
    "import numpy as np\n",
    "from isaacgym import gymapi, gymtorch\n",
    "from isaacgym.torch_utils import *\n",
    "from tqdm import tqdm"
   ]
  },
  {
   "cell_type": "code",
   "execution_count": 2,
   "id": "6b4cb997-804f-4d8c-b198-974a6c3d4704",
   "metadata": {},
   "outputs": [],
   "source": [
    "from franka_panda_env import FrankaPandaEnv\n",
    "from misc import wrap_angle\n",
    "from motion_primitive_controller import MotionPrimitiveController\n",
    "from position_controller import PositionController"
   ]
  },
  {
   "cell_type": "code",
   "execution_count": 3,
   "id": "d7208d47-190c-4d9e-a3a9-a876f92d6788",
   "metadata": {},
   "outputs": [
    {
     "name": "stdout",
     "output_type": "stream",
     "text": [
      "Not connected to PVD\n",
      "+++ Using GPU PhysX\n",
      "Physics Engine: PhysX\n",
      "Physics Device: cuda:0\n",
      "GPU Pipeline: disabled\n",
      "Loading asset 'urdf/franka_description/robots/franka_panda_gripper.urdf' from 'assets'\n",
      "Creating 36 environments\n"
     ]
    }
   ],
   "source": [
    "env = FrankaPandaEnv(use_gpu=True, use_gpu_pipeline=False, headless=True)\n",
    "\n",
    "motion_primitive_controller = MotionPrimitiveController(env.states[\"eef_pos\"])\n",
    "motion_primitive_controller.update(\n",
    "    current_positions=env.states[\"eef_pos\"],\n",
    "    current_velocities=env.states[\"eef_vel\"],\n",
    "    cube_pos_relative=env.states[\"cube_pos_relative\"],\n",
    "    states_dict=env.states,\n",
    "    force=True,\n",
    ")\n",
    "\n",
    "position_controller = PositionController(env)"
   ]
  },
  {
   "cell_type": "code",
   "execution_count": 4,
   "id": "6bdf12ca-a87c-4090-aa87-8396ba89f89a",
   "metadata": {},
   "outputs": [
    {
     "name": "stderr",
     "output_type": "stream",
     "text": [
      "  0%|                                                                                 | 0/100 [00:05<?, ?it/s]\n"
     ]
    },
    {
     "ename": "NameError",
     "evalue": "name 'save_trajectories' is not defined",
     "output_type": "error",
     "traceback": [
      "\u001b[0;31m---------------------------------------------------------------------------\u001b[0m",
      "\u001b[0;31mNameError\u001b[0m                                 Traceback (most recent call last)",
      "Cell \u001b[0;32mIn[4], line 32\u001b[0m\n\u001b[1;32m     30\u001b[0m     motion_primitive_controller\u001b[38;5;241m.\u001b[39mdones \u001b[38;5;241m*\u001b[39m\u001b[38;5;241m=\u001b[39m \u001b[38;5;28;01mFalse\u001b[39;00m\n\u001b[1;32m     31\u001b[0m     frame_num \u001b[38;5;241m+\u001b[39m\u001b[38;5;241m=\u001b[39m \u001b[38;5;241m1\u001b[39m\n\u001b[0;32m---> 32\u001b[0m \u001b[43msave_trajectories\u001b[49m(\u001b[38;5;124mf\u001b[39m\u001b[38;5;124m\"\u001b[39m\u001b[38;5;132;01m{\u001b[39;00mi\u001b[38;5;132;01m}\u001b[39;00m\u001b[38;5;124m.pth\u001b[39m\u001b[38;5;124m\"\u001b[39m)\n\u001b[1;32m     33\u001b[0m clear_trajectories()\n",
      "\u001b[0;31mNameError\u001b[0m: name 'save_trajectories' is not defined"
     ]
    }
   ],
   "source": [
    "frame_num = 0\n",
    "for i in tqdm(range(100)):\n",
    "    # Reset all environments\n",
    "    env.reset_pose(\"default\")\n",
    "    env.reset_cube()\n",
    "    motion_primitive_controller.dones *= False\n",
    "    motion_primitive_controller.update(\n",
    "        current_positions=env.states[\"eef_pos\"],\n",
    "        current_velocities=env.states[\"eef_vel\"],\n",
    "        cube_pos_relative=env.states[\"cube_pos_relative\"],\n",
    "        states_dict=env.states,\n",
    "        force=True,\n",
    "        epsilon=0.5,\n",
    "    )\n",
    "    for _ in range(500):\n",
    "        indices_done = motion_primitive_controller.update(\n",
    "            current_positions=env.states[\"eef_pos\"],\n",
    "            current_velocities=env.states[\"eef_vel\"],\n",
    "            cube_pos_relative=env.states[\"cube_pos_relative\"],\n",
    "            states_dict=env.states,\n",
    "            epsilon=0.5,\n",
    "        )\n",
    "        position_controller.set_target(\n",
    "            motion_primitive_controller.current_targets[:, :2]\n",
    "        )\n",
    "        position_controller.step()\n",
    "        # env.gym.write_viewer_image_to_file(env.viewer, f\"./images/{frame_num}.png\")\n",
    "        env.reset_pose(\"default\", indices_done)\n",
    "        env.reset_cube(indices_done)\n",
    "        motion_primitive_controller.dones *= False\n",
    "        frame_num += 1\n",
    "    motion_primitive_controller.save_trajectories(f\"{i}.pth\")\n",
    "    motion_primitive_controller.clear_trajectories()"
   ]
  },
  {
   "cell_type": "code",
   "execution_count": null,
   "id": "e7080d3f-d169-431d-8d01-8086ccc86203",
   "metadata": {},
   "outputs": [],
   "source": []
  }
 ],
 "metadata": {
  "kernelspec": {
   "display_name": "Python [conda env:rlgpu]",
   "language": "python",
   "name": "conda-env-rlgpu-py"
  },
  "language_info": {
   "codemirror_mode": {
    "name": "ipython",
    "version": 3
   },
   "file_extension": ".py",
   "mimetype": "text/x-python",
   "name": "python",
   "nbconvert_exporter": "python",
   "pygments_lexer": "ipython3",
   "version": "3.8.18"
  }
 },
 "nbformat": 4,
 "nbformat_minor": 5
}
