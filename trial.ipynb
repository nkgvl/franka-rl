{
 "cells": [
  {
   "cell_type": "code",
   "execution_count": null,
   "id": "e699930e-287a-407a-b430-a7405c45ed5a",
   "metadata": {
    "tags": []
   },
   "outputs": [],
   "source": [
    "import numpy as np\n",
    "from isaacgym import gymapi, gymtorch\n",
    "from isaacgym.torch_utils import *"
   ]
  },
  {
   "cell_type": "code",
   "execution_count": null,
   "id": "88e16975-4d11-4bcd-b947-8c86d4dd6dc9",
   "metadata": {
    "tags": []
   },
   "outputs": [],
   "source": [
    "from franka_panda_env import FrankaPandaEnv\n",
    "from motion_primitive import MotionPrimitive"
   ]
  },
  {
   "cell_type": "code",
   "execution_count": null,
   "id": "23217b7c-694c-4bdd-a6b0-b7726289d486",
   "metadata": {
    "tags": []
   },
   "outputs": [],
   "source": [
    "def wrap_angle(angle):\n",
    "    \"\"\" Wrap an angle to the range [-pi, pi] \"\"\"\n",
    "    return angle - 2 * torch.pi * torch.floor((angle + torch.pi) / (2 * torch.pi))"
   ]
  },
  {
   "cell_type": "code",
   "execution_count": null,
   "id": "c63dc3a3-55e9-46e5-93d8-14d1e72a2388",
   "metadata": {},
   "outputs": [],
   "source": [
    "env = FrankaPandaEnv(use_gpu=True, use_gpu_pipeline=False)"
   ]
  },
  {
   "cell_type": "code",
   "execution_count": null,
   "id": "18fcf72a-bc9b-4a36-ad6e-00c09f73553d",
   "metadata": {},
   "outputs": [],
   "source": [
    "class EnvWrapper:\n",
    "    def __init__(self)"
   ]
  },
  {
   "cell_type": "code",
   "execution_count": null,
   "id": "fcd3549c-4465-41c8-a0dc-d8d92cfe6942",
   "metadata": {
    "tags": []
   },
   "outputs": [],
   "source": [
    "motion_primitive = MotionPrimitive(num_envs=env.num_envs)"
   ]
  },
  {
   "cell_type": "code",
   "execution_count": null,
   "id": "49c02348-234c-46ee-8a76-fe21937ad962",
   "metadata": {
    "tags": []
   },
   "outputs": [],
   "source": [
    "env.reset_pose(\"default\")\n",
    "env._refresh()\n",
    "for i in range(10000):\n",
    "    # if i % 100 == 0:\n",
    "    #     env.reset_pose()\n",
    "    #     env.reset_cube()\n",
    "    env._refresh()\n",
    "    dpose = torch.zeros((env.num_envs, 7))\n",
    "    dpose[:, :3] = torch.Tensor([0.0, 0.2, 0.025]) - env.states[\"eef_pos\"]\n",
    "\n",
    "    target_quat = torch.Tensor([1, 0, 0, 0])\n",
    "    current_quat = env.states[\"eef_quat\"]\n",
    "    diff_quat = quat_mul(\n",
    "        target_quat.unsqueeze(0).expand_as(current_quat),\n",
    "        quat_conjugate(current_quat),\n",
    "    )\n",
    "    euler_angles = get_euler_xyz(diff_quat)\n",
    "    dpose[:, 3], dpose[:, 4], dpose[:, 5] = normalize_angle(euler_angles[0]), normalize_angle(euler_angles[1]), normalize_angle(euler_angles[2])\n",
    "    dpose[:, -1] = -1\n",
    "    \n",
    "    # actions = motion_primitive.sample_actions()\n",
    "    # dpose[:, :2] = actions * 0.3\n",
    "    # dpose[:, 2] *= 3.0\n",
    "    env.pre_physics_step(dpose)\n",
    "    env.step_physics()\n",
    "    env.gym.refresh_rigid_body_state_tensor(env.sim)\n",
    "    env.step_rendering()\n",
    "    # env.gym.write_viewer_image_to_file(env.viewer, f'./images/{i}.png')\n",
    "    # break"
   ]
  },
  {
   "cell_type": "code",
   "execution_count": null,
   "id": "c508a873-2ef5-4be5-8300-a328859d78ce",
   "metadata": {
    "tags": []
   },
   "outputs": [],
   "source": [
    "env.gym.get_sim_actor_count(env.sim) // env.num_envs"
   ]
  },
  {
   "cell_type": "code",
   "execution_count": null,
   "id": "6d5aadc8-5ce5-44cf-a2bb-c38d66926ca8",
   "metadata": {
    "tags": []
   },
   "outputs": [],
   "source": [
    "for i in range(1000):\n",
    "    env.step_physics()\n",
    "    env.step_rendering()"
   ]
  },
  {
   "cell_type": "code",
   "execution_count": null,
   "id": "9d60e6e3-effe-41e1-9851-4893feaa4aa2",
   "metadata": {},
   "outputs": [],
   "source": [
    "viewer."
   ]
  }
 ],
 "metadata": {
  "kernelspec": {
   "display_name": "Python [conda env:rlgpu]",
   "language": "python",
   "name": "conda-env-rlgpu-py"
  },
  "language_info": {
   "codemirror_mode": {
    "name": "ipython",
    "version": 3
   },
   "file_extension": ".py",
   "mimetype": "text/x-python",
   "name": "python",
   "nbconvert_exporter": "python",
   "pygments_lexer": "ipython3",
   "version": "3.8.18"
  }
 },
 "nbformat": 4,
 "nbformat_minor": 5
}
