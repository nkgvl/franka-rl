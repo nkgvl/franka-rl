{
 "cells": [
  {
   "cell_type": "code",
   "execution_count": null,
   "id": "e699930e-287a-407a-b430-a7405c45ed5a",
   "metadata": {
    "tags": []
   },
   "outputs": [],
   "source": [
    "import numpy as np\n",
    "import torch\n",
    "from isaacgym import gymapi, gymtorch, torch_utils"
   ]
  },
  {
   "cell_type": "code",
   "execution_count": null,
   "id": "88e16975-4d11-4bcd-b947-8c86d4dd6dc9",
   "metadata": {
    "tags": []
   },
   "outputs": [],
   "source": [
    "from env import FrankaPandaEnv"
   ]
  },
  {
   "cell_type": "code",
   "execution_count": null,
   "id": "c63dc3a3-55e9-46e5-93d8-14d1e72a2388",
   "metadata": {},
   "outputs": [],
   "source": [
    "env = FrankaPandaEnv(use_gpu=True, use_gpu_pipeline=False)"
   ]
  },
  {
   "cell_type": "code",
   "execution_count": null,
   "id": "ae4145ec-ad0e-4d5b-b7d5-c34e0a0b1782",
   "metadata": {
    "tags": []
   },
   "outputs": [],
   "source": [
    "env.reset_pose(\"default\")\n",
    "env._refresh()\n",
    "for _ in range(10000):\n",
    "    env._refresh()\n",
    "    dpose = torch.zeros((env.num_envs, 7))\n",
    "    dpose[:, :3] = torch.Tensor([0.0, 0.2, 0.05]) - env.states[\"eef_pos\"]\n",
    "\n",
    "    target_quat = torch.Tensor([1, 0, 0, 0])\n",
    "    current_quat = env.states[\"eef_quat\"]\n",
    "    diff_quat = torch_utils.quat_mul(\n",
    "        target_quat.unsqueeze(0).expand_as(current_quat),\n",
    "        torch_utils.quat_conjugate(current_quat),\n",
    "    )\n",
    "    dpose[:, 3:7] = diff_quat\n",
    "\n",
    "    dpose[:, -1] = -1\n",
    "    env._refresh()\n",
    "    env.pre_physics_step(dpose)\n",
    "    env.step_physics()\n",
    "    env.step_rendering()"
   ]
  }
 ],
 "metadata": {
  "kernelspec": {
   "display_name": "Python [conda env:rlgpu]",
   "language": "python",
   "name": "conda-env-rlgpu-py"
  },
  "language_info": {
   "codemirror_mode": {
    "name": "ipython",
    "version": 3
   },
   "file_extension": ".py",
   "mimetype": "text/x-python",
   "name": "python",
   "nbconvert_exporter": "python",
   "pygments_lexer": "ipython3",
   "version": "3.8.18"
  }
 },
 "nbformat": 4,
 "nbformat_minor": 5
}
