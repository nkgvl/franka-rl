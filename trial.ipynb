{
 "cells": [
  {
   "cell_type": "code",
   "execution_count": 1,
   "id": "e699930e-287a-407a-b430-a7405c45ed5a",
   "metadata": {
    "tags": []
   },
   "outputs": [
    {
     "name": "stdout",
     "output_type": "stream",
     "text": [
      "Importing module 'gym_38' (/data2/users/nk523/isaacgym/python/isaacgym/_bindings/linux-x86_64/gym_38.so)\n",
      "Setting GYM_USD_PLUG_INFO_PATH to /data2/users/nk523/isaacgym/python/isaacgym/_bindings/linux-x86_64/usd/plugInfo.json\n",
      "PyTorch version 2.1.1\n",
      "Device count 4\n",
      "/data2/users/nk523/isaacgym/python/isaacgym/_bindings/src/gymtorch\n"
     ]
    },
    {
     "name": "stderr",
     "output_type": "stream",
     "text": [
      "Using /data2/users/nk523/.cache/torch_extensions/py38_cu121 as PyTorch extensions root...\n",
      "Emitting ninja build file /data2/users/nk523/.cache/torch_extensions/py38_cu121/gymtorch/build.ninja...\n",
      "Building extension module gymtorch...\n",
      "Allowing ninja to set a default number of workers... (overridable by setting the environment variable MAX_JOBS=N)\n",
      "Loading extension module gymtorch...\n"
     ]
    },
    {
     "name": "stdout",
     "output_type": "stream",
     "text": [
      "ninja: no work to do.\n"
     ]
    }
   ],
   "source": [
    "import numpy as np\n",
    "from isaacgym import gymapi, gymtorch\n",
    "from isaacgym.torch_utils import *"
   ]
  },
  {
   "cell_type": "code",
   "execution_count": 2,
   "id": "88e16975-4d11-4bcd-b947-8c86d4dd6dc9",
   "metadata": {
    "tags": []
   },
   "outputs": [],
   "source": [
    "from env import FrankaPandaEnv\n",
    "from motion_primitive import MotionPrimitive"
   ]
  },
  {
   "cell_type": "code",
   "execution_count": 3,
   "id": "23217b7c-694c-4bdd-a6b0-b7726289d486",
   "metadata": {
    "tags": []
   },
   "outputs": [],
   "source": [
    "def wrap_angle(angle):\n",
    "    \"\"\" Wrap an angle to the range [-pi, pi] \"\"\"\n",
    "    return angle - 2 * torch.pi * torch.floor((angle + torch.pi) / (2 * torch.pi))"
   ]
  },
  {
   "cell_type": "code",
   "execution_count": 4,
   "id": "c63dc3a3-55e9-46e5-93d8-14d1e72a2388",
   "metadata": {},
   "outputs": [
    {
     "name": "stdout",
     "output_type": "stream",
     "text": [
      "Not connected to PVD\n",
      "+++ Using GPU PhysX\n",
      "Physics Engine: PhysX\n",
      "Physics Device: cuda:0\n",
      "GPU Pipeline: disabled\n",
      "Loading asset 'urdf/franka_description/robots/franka_panda_gripper.urdf' from 'assets'\n",
      "Creating 36 environments\n"
     ]
    }
   ],
   "source": [
    "env = FrankaPandaEnv(use_gpu=True, use_gpu_pipeline=False)"
   ]
  },
  {
   "cell_type": "code",
   "execution_count": 5,
   "id": "fcd3549c-4465-41c8-a0dc-d8d92cfe6942",
   "metadata": {
    "tags": []
   },
   "outputs": [],
   "source": [
    "motion_primitive = MotionPrimitive(num_envs=env.num_envs)"
   ]
  },
  {
   "cell_type": "code",
   "execution_count": 7,
   "id": "49c02348-234c-46ee-8a76-fe21937ad962",
   "metadata": {
    "tags": []
   },
   "outputs": [
    {
     "ename": "KeyboardInterrupt",
     "evalue": "",
     "output_type": "error",
     "traceback": [
      "\u001b[0;31m---------------------------------------------------------------------------\u001b[0m",
      "\u001b[0;31mKeyboardInterrupt\u001b[0m                         Traceback (most recent call last)",
      "Cell \u001b[0;32mIn[7], line 24\u001b[0m\n\u001b[1;32m     22\u001b[0m env\u001b[38;5;241m.\u001b[39mpre_physics_step(dpose)\n\u001b[1;32m     23\u001b[0m env\u001b[38;5;241m.\u001b[39mstep_physics()\n\u001b[0;32m---> 24\u001b[0m \u001b[43menv\u001b[49m\u001b[38;5;241;43m.\u001b[39;49m\u001b[43mstep_rendering\u001b[49m\u001b[43m(\u001b[49m\u001b[43m)\u001b[49m\n",
      "File \u001b[0;32m/data2/users/nk523/Projects/rl-env/env.py:395\u001b[0m, in \u001b[0;36mFrankaPandaEnv.step_rendering\u001b[0;34m(self)\u001b[0m\n\u001b[1;32m    393\u001b[0m \u001b[38;5;28;01mdef\u001b[39;00m \u001b[38;5;21mstep_rendering\u001b[39m(\u001b[38;5;28mself\u001b[39m):\n\u001b[1;32m    394\u001b[0m     \u001b[38;5;28mself\u001b[39m\u001b[38;5;241m.\u001b[39mgym\u001b[38;5;241m.\u001b[39mstep_graphics(\u001b[38;5;28mself\u001b[39m\u001b[38;5;241m.\u001b[39msim)\n\u001b[0;32m--> 395\u001b[0m     \u001b[38;5;28;43mself\u001b[39;49m\u001b[38;5;241;43m.\u001b[39;49m\u001b[43mgym\u001b[49m\u001b[38;5;241;43m.\u001b[39;49m\u001b[43mdraw_viewer\u001b[49m\u001b[43m(\u001b[49m\u001b[38;5;28;43mself\u001b[39;49m\u001b[38;5;241;43m.\u001b[39;49m\u001b[43mviewer\u001b[49m\u001b[43m,\u001b[49m\u001b[43m \u001b[49m\u001b[38;5;28;43mself\u001b[39;49m\u001b[38;5;241;43m.\u001b[39;49m\u001b[43msim\u001b[49m\u001b[43m,\u001b[49m\u001b[43m \u001b[49m\u001b[38;5;28;43;01mFalse\u001b[39;49;00m\u001b[43m)\u001b[49m\n\u001b[1;32m    396\u001b[0m     \u001b[38;5;28mself\u001b[39m\u001b[38;5;241m.\u001b[39mgym\u001b[38;5;241m.\u001b[39msync_frame_time(\u001b[38;5;28mself\u001b[39m\u001b[38;5;241m.\u001b[39msim)\n",
      "\u001b[0;31mKeyboardInterrupt\u001b[0m: "
     ]
    }
   ],
   "source": [
    "env.reset_pose(\"default\")\n",
    "env._refresh()\n",
    "for _ in range(10000):\n",
    "    env._refresh()\n",
    "    dpose = torch.zeros((env.num_envs, 7))\n",
    "    dpose[:, :3] = torch.Tensor([0.0, 0.2, 0.03]) - env.states[\"eef_pos\"]\n",
    "\n",
    "    target_quat = torch.Tensor([1, 0, 0, 0])\n",
    "    current_quat = env.states[\"eef_quat\"]\n",
    "    diff_quat = quat_mul(\n",
    "        target_quat.unsqueeze(0).expand_as(current_quat),\n",
    "        quat_conjugate(current_quat),\n",
    "    )\n",
    "    euler_angles = get_euler_xyz(diff_quat)\n",
    "    dpose[:, 3], dpose[:, 4], dpose[:, 5] = wrap_angle(euler_angles[0]), wrap_angle(euler_angles[1]), wrap_angle(euler_angles[2])\n",
    "    dpose[:, -1] = -1\n",
    "    \n",
    "    actions = motion_primitive.sample_actions()\n",
    "    dpose[:, :2] = actions * 0.3\n",
    "    dpose[:, 2] *= 3.0\n",
    "    env._refresh()\n",
    "    env.pre_physics_step(dpose)\n",
    "    env.step_physics()\n",
    "    env.step_rendering()"
   ]
  },
  {
   "cell_type": "code",
   "execution_count": null,
   "id": "6d5aadc8-5ce5-44cf-a2bb-c38d66926ca8",
   "metadata": {},
   "outputs": [],
   "source": []
  }
 ],
 "metadata": {
  "kernelspec": {
   "display_name": "Python [conda env:rlgpu]",
   "language": "python",
   "name": "conda-env-rlgpu-py"
  },
  "language_info": {
   "codemirror_mode": {
    "name": "ipython",
    "version": 3
   },
   "file_extension": ".py",
   "mimetype": "text/x-python",
   "name": "python",
   "nbconvert_exporter": "python",
   "pygments_lexer": "ipython3",
   "version": "3.8.18"
  }
 },
 "nbformat": 4,
 "nbformat_minor": 5
}
