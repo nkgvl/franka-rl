{
 "cells": [
  {
   "cell_type": "code",
   "execution_count": 1,
   "id": "e699930e-287a-407a-b430-a7405c45ed5a",
   "metadata": {
    "tags": []
   },
   "outputs": [
    {
     "name": "stdout",
     "output_type": "stream",
     "text": [
      "Importing module 'gym_38' (/data2/users/nk523/isaacgym/python/isaacgym/_bindings/linux-x86_64/gym_38.so)\n",
      "Setting GYM_USD_PLUG_INFO_PATH to /data2/users/nk523/isaacgym/python/isaacgym/_bindings/linux-x86_64/usd/plugInfo.json\n",
      "PyTorch version 2.1.1\n",
      "Device count 4\n",
      "/data2/users/nk523/isaacgym/python/isaacgym/_bindings/src/gymtorch\n"
     ]
    },
    {
     "name": "stderr",
     "output_type": "stream",
     "text": [
      "Using /data2/users/nk523/.cache/torch_extensions/py38_cu121 as PyTorch extensions root...\n",
      "Emitting ninja build file /data2/users/nk523/.cache/torch_extensions/py38_cu121/gymtorch/build.ninja...\n",
      "Building extension module gymtorch...\n",
      "Allowing ninja to set a default number of workers... (overridable by setting the environment variable MAX_JOBS=N)\n",
      "Loading extension module gymtorch...\n"
     ]
    },
    {
     "name": "stdout",
     "output_type": "stream",
     "text": [
      "ninja: no work to do.\n"
     ]
    }
   ],
   "source": [
    "import numpy as np\n",
    "from isaacgym import gymapi, gymtorch\n",
    "from isaacgym.torch_utils import *\n",
    "from tqdm import tqdm"
   ]
  },
  {
   "cell_type": "code",
   "execution_count": 2,
   "id": "88e16975-4d11-4bcd-b947-8c86d4dd6dc9",
   "metadata": {
    "tags": []
   },
   "outputs": [],
   "source": [
    "from franka_panda_env import FrankaPandaEnv\n",
    "from motion_primitive import MotionPrimitive"
   ]
  },
  {
   "cell_type": "code",
   "execution_count": 3,
   "id": "23217b7c-694c-4bdd-a6b0-b7726289d486",
   "metadata": {
    "tags": []
   },
   "outputs": [],
   "source": [
    "def wrap_angle(angle):\n",
    "    \"\"\"Wrap an angle to the range [-pi, pi]\"\"\"\n",
    "    return angle - 2 * torch.pi * torch.floor((angle + torch.pi) / (2 * torch.pi))"
   ]
  },
  {
   "cell_type": "code",
   "execution_count": 4,
   "id": "18fcf72a-bc9b-4a36-ad6e-00c09f73553d",
   "metadata": {
    "tags": []
   },
   "outputs": [],
   "source": [
    "class TrajectoryCreator:\n",
    "    def __init__(self, height=0.025):\n",
    "        self.env = FrankaPandaEnv(use_gpu=True, use_gpu_pipeline=False)\n",
    "        self.motion_primitive = MotionPrimitive(self.env.states[\"eef_pos\"][:, :2])\n",
    "        self.env.reset_pose(\"default\")\n",
    "        self.height = height\n",
    "        self._move_to_default_pos()\n",
    "        self._set_default_dof_pos()\n",
    "        self.gain = 10.0\n",
    "\n",
    "    def _move_to_default_pos(self):\n",
    "        for _ in range(1000):\n",
    "            dpose = torch.zeros((self.env.num_envs, 7))\n",
    "            dpose[:, :3] = (\n",
    "                torch.Tensor([0, 0, self.height]) - self.env.states[\"eef_pos\"]\n",
    "            )\n",
    "\n",
    "            target_quat = torch.Tensor([1, 0, 0, 0])\n",
    "            current_quat = self.env.states[\"eef_quat\"]\n",
    "            diff_quat = quat_mul(\n",
    "                target_quat.unsqueeze(0).expand_as(current_quat),\n",
    "                quat_conjugate(current_quat),\n",
    "            )\n",
    "            euler_angles = get_euler_xyz(diff_quat)\n",
    "            dpose[:, 3], dpose[:, 4], dpose[:, 5] = (\n",
    "                normalize_angle(euler_angles[0]),\n",
    "                normalize_angle(euler_angles[1]),\n",
    "                normalize_angle(euler_angles[2]),\n",
    "            )\n",
    "            dpose[:, -1] = -1\n",
    "\n",
    "            self.env.pre_physics_step(dpose * 10)\n",
    "            self.env.step_physics()\n",
    "            self.env.post_physics_step()\n",
    "\n",
    "    def _set_default_dof_pos(self):\n",
    "        pose = (\n",
    "            gymtorch.wrap_tensor(\n",
    "                self.env.gym.acquire_dof_state_tensor(self.env.sim)\n",
    "            )\n",
    "            .view(self.env.num_envs, -1, 2)[:, :, 0]\n",
    "            .mean(0)\n",
    "            .clone()\n",
    "        )\n",
    "        self.env.franka_default_dof_pos = pose\n",
    "\n",
    "    def set_force(self, dpose_xy):\n",
    "        dpose = torch.zeros((self.env.num_envs, 7))\n",
    "        dpose[:, :3] = torch.Tensor([0, 0, self.height]) - self.env.states[\"eef_pos\"]\n",
    "        dpose[:, :2] = dpose_xy\n",
    "\n",
    "        target_quat = torch.Tensor([1, 0, 0, 0])\n",
    "        current_quat = self.env.states[\"eef_quat\"]\n",
    "        diff_quat = quat_mul(\n",
    "            target_quat.unsqueeze(0).expand_as(current_quat),\n",
    "            quat_conjugate(current_quat),\n",
    "        )\n",
    "        euler_angles = get_euler_xyz(diff_quat)\n",
    "        dpose[:, 3], dpose[:, 4], dpose[:, 5] = (\n",
    "            normalize_angle(euler_angles[0]),\n",
    "            normalize_angle(euler_angles[1]),\n",
    "            normalize_angle(euler_angles[2]),\n",
    "        )\n",
    "        dpose[:, -1] = -1\n",
    "\n",
    "        self.env.pre_physics_step(dpose * self.gain)\n",
    "\n",
    "    def step(self):\n",
    "        dpose_xy = self.motion_primitive.get_relative_goal(\n",
    "            self.env.states[\"eef_pos\"][:, :2], self.env.states[\"cube_pos_relative\"][:, :2]\n",
    "        )\n",
    "        self.set_force(dpose_xy)\n",
    "        self.env.step_physics()\n",
    "        self.env.post_physics_step()\n",
    "        self.env.step_rendering()"
   ]
  },
  {
   "cell_type": "code",
   "execution_count": 5,
   "id": "0923a35f-769a-4c16-858f-46f5856c6233",
   "metadata": {
    "tags": []
   },
   "outputs": [
    {
     "name": "stdout",
     "output_type": "stream",
     "text": [
      "Not connected to PVD\n",
      "+++ Using GPU PhysX\n",
      "Physics Engine: PhysX\n",
      "Physics Device: cuda:0\n",
      "GPU Pipeline: disabled\n",
      "Loading asset 'urdf/franka_description/robots/franka_panda_gripper.urdf' from 'assets'\n",
      "Creating 36 environments\n"
     ]
    }
   ],
   "source": [
    "trajectory_creator = TrajectoryCreator()"
   ]
  },
  {
   "cell_type": "code",
   "execution_count": 8,
   "id": "9ca3ee9c-9fca-4402-9a6a-1628e4bd80ef",
   "metadata": {
    "tags": []
   },
   "outputs": [],
   "source": [
    "for _ in range(1000):\n",
    "    trajectory_creator.step()"
   ]
  },
  {
   "cell_type": "code",
   "execution_count": null,
   "id": "fcd3549c-4465-41c8-a0dc-d8d92cfe6942",
   "metadata": {
    "tags": []
   },
   "outputs": [],
   "source": [
    "motion_primitive = MotionPrimitive(num_envs=env.num_envs)"
   ]
  },
  {
   "cell_type": "code",
   "execution_count": null,
   "id": "49c02348-234c-46ee-8a76-fe21937ad962",
   "metadata": {
    "tags": []
   },
   "outputs": [],
   "source": [
    "env.reset_pose(\"default\")\n",
    "env._refresh()\n",
    "for i in tqdm(range(10000)):\n",
    "    if i % 100 == 0:\n",
    "        env.reset_pose()\n",
    "        env.reset_cube()\n",
    "    env._refresh()\n",
    "    dpose = torch.zeros((env.num_envs, 7))\n",
    "    dpose[:, :3] = torch.Tensor([0.0, 0.2, 0.025]) - env.states[\"eef_pos\"]\n",
    "\n",
    "    target_quat = torch.Tensor([1, 0, 0, 0])\n",
    "    current_quat = env.states[\"eef_quat\"]\n",
    "    diff_quat = quat_mul(\n",
    "        target_quat.unsqueeze(0).expand_as(current_quat),\n",
    "        quat_conjugate(current_quat),\n",
    "    )\n",
    "    euler_angles = get_euler_xyz(diff_quat)\n",
    "    dpose[:, 3], dpose[:, 4], dpose[:, 5] = (\n",
    "        normalize_angle(euler_angles[0]),\n",
    "        normalize_angle(euler_angles[1]),\n",
    "        normalize_angle(euler_angles[2]),\n",
    "    )\n",
    "    dpose[:, -1] = -1\n",
    "\n",
    "    # actions = motion_primitive.sample_actions()\n",
    "    # dpose[:, :2] = actions * 0.3\n",
    "    # dpose[:, 2] *= 3.0\n",
    "    env.pre_physics_step(dpose * 10)\n",
    "    env.step_physics()\n",
    "    env.post_physics_step()\n",
    "    env.step_rendering()\n",
    "    # env.gym.write_viewer_image_to_file(env.viewer, f'./images/{i}.png')\n",
    "    # break"
   ]
  },
  {
   "cell_type": "code",
   "execution_count": null,
   "id": "5508e7cf-c7f1-4016-8c99-62814128d981",
   "metadata": {
    "tags": []
   },
   "outputs": [],
   "source": [
    "torch.atan2(\n",
    "    env.states[\"cube_pos_relative\"][:, 0], env.states[\"cube_pos_relative\"][:, 1]\n",
    ")"
   ]
  },
  {
   "cell_type": "code",
   "execution_count": null,
   "id": "c508a873-2ef5-4be5-8300-a328859d78ce",
   "metadata": {
    "tags": []
   },
   "outputs": [],
   "source": [
    "env.gym.get_sim_actor_count(env.sim) // env.num_envs"
   ]
  },
  {
   "cell_type": "code",
   "execution_count": null,
   "id": "6d5aadc8-5ce5-44cf-a2bb-c38d66926ca8",
   "metadata": {
    "tags": []
   },
   "outputs": [],
   "source": [
    "for i in range(1000):\n",
    "    env.step_physics()\n",
    "    env.step_rendering()"
   ]
  },
  {
   "cell_type": "code",
   "execution_count": null,
   "id": "9d60e6e3-effe-41e1-9851-4893feaa4aa2",
   "metadata": {},
   "outputs": [],
   "source": [
    "viewer."
   ]
  }
 ],
 "metadata": {
  "kernelspec": {
   "display_name": "Python [conda env:rlgpu]",
   "language": "python",
   "name": "conda-env-rlgpu-py"
  },
  "language_info": {
   "codemirror_mode": {
    "name": "ipython",
    "version": 3
   },
   "file_extension": ".py",
   "mimetype": "text/x-python",
   "name": "python",
   "nbconvert_exporter": "python",
   "pygments_lexer": "ipython3",
   "version": "3.8.18"
  }
 },
 "nbformat": 4,
 "nbformat_minor": 5
}
